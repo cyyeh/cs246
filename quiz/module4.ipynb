{
 "cells": [
  {
   "cell_type": "markdown",
   "metadata": {},
   "source": [
    "# Distance Measures"
   ]
  },
  {
   "cell_type": "markdown",
   "metadata": {},
   "source": [
    "## Q1\n",
    "\n",
    "Consider the following three vectors u, v, w in a 6-dimensional space:\n",
    "\n",
    "```\n",
    "u = [1, 0.25, 0, 0, 0.5, 0]\n",
    "\n",
    "v = [0.75, 0, 0, 0.2, 0.4, 0]\n",
    "\n",
    "w = [0, 0.1, 0.75, 0, 0, 1]\n",
    "```\n",
    "\n",
    "Suppose cos(x,y) denotes the similarity of vectors x and y under the cosine similarity measure. Compute all three pairwise similarities among u,v, w. Which of the following statements is true (to 4 decimal places)?\n",
    "\n",
    "1. cos(u,w) = 0.0174\n",
    "2. cos(u,w) = 0.9496\n",
    "3. cos(v,w) = 0.0174\n",
    "4. cos(v,w) = 0.9496"
   ]
  },
  {
   "cell_type": "code",
   "execution_count": 3,
   "metadata": {},
   "outputs": [
    {
     "name": "stdout",
     "output_type": "stream",
     "text": [
      "cos(u,w)=0.01740183416297251\n",
      "cos(v,w)=0.0\n"
     ]
    }
   ],
   "source": [
    "import numpy as np\n",
    "\n",
    "u = np.array([1, 0.25, 0, 0, 0.5, 0])\n",
    "v = np.array([0.75, 0, 0, 0.2, 0.4, 0])\n",
    "w = np.array([0, 0.1, 0.75, 0, 0, 1])\n",
    "\n",
    "u_distance = np.sqrt(np.sum(u ** 2))\n",
    "v_distance = np.sqrt(np.sum(v ** 2))\n",
    "w_distance = np.sqrt(np.sum(w ** 2))\n",
    "\n",
    "print(f\"cos(u,w)={np.dot(u, w)/(u_distance * w_distance)}\")\n",
    "print(f\"cos(v,w)={np.dot(v, w)/(v_distance * w_distance)}\")"
   ]
  },
  {
   "cell_type": "markdown",
   "metadata": {},
   "source": [
    "## Q2\n",
    "\n",
    "Here are five vectors in a 10-dimensional space:\n",
    "\n",
    "`1111000000  0100100101  0000011110  0111111111  1011111111`\n",
    "\n",
    "Compute the Jaccard distance (not Jaccard \"measure\") between each pair of the vectors. Then, identify one of these distances from the list below.\n",
    "\n",
    "1. 7/10\n",
    "2. 1/9\n",
    "3. 0\n",
    "4. 4/5"
   ]
  },
  {
   "cell_type": "markdown",
   "metadata": {},
   "source": [
    "## Q3\n",
    "\n",
    "Here are five vectors in a 10-dimensional space:\n",
    "\n",
    "`1111000000  0100100101  0000011110  0111111111  1011111111`\n",
    "\n",
    "Compute the Manhattan distance (L1 norm) between each two of these vectors. Then, identify which of the following is a true statement about the number of pairs with a particular distance.\n",
    "\n",
    "1. There are 2 pairs at distance 7.\n",
    "2. There are 2 pairs at distance 6.\n",
    "3. There are 4 pairs at distance 7.\n",
    "4. There are 3 pairs at distance 6."
   ]
  },
  {
   "cell_type": "markdown",
   "metadata": {},
   "source": [
    "## Q4\n",
    "\n",
    "The edit distance is the minimum number of character insertions and character deletions required to turn one string into another. Compute the edit distance between each pair of the strings he, she, his, and hers. Then, identify which of the following is a true statement about the number of pairs at a certain edit distance.\n",
    "\n",
    "1. There are 4 pairs at distance 5.\n",
    "2. There is 1 pair at distance 3.\n",
    "3. There is 1 pair at distance 4.\n",
    "4. There are 2 pairs at distance 4."
   ]
  },
  {
   "cell_type": "code",
   "execution_count": null,
   "metadata": {},
   "outputs": [],
   "source": []
  }
 ],
 "metadata": {
  "kernelspec": {
   "display_name": "Python 3",
   "language": "python",
   "name": "python3"
  },
  "language_info": {
   "codemirror_mode": {
    "name": "ipython",
    "version": 3
   },
   "file_extension": ".py",
   "mimetype": "text/x-python",
   "name": "python",
   "nbconvert_exporter": "python",
   "pygments_lexer": "ipython3",
   "version": "3.6.5"
  }
 },
 "nbformat": 4,
 "nbformat_minor": 4
}
